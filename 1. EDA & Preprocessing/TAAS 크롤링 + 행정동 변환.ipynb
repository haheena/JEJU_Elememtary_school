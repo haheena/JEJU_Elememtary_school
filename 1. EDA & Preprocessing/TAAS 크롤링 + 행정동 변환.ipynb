{
 "cells": [
  {
   "cell_type": "code",
   "execution_count": 1,
   "id": "a54463e9",
   "metadata": {},
   "outputs": [],
   "source": [
    "from selenium import webdriver\n",
    "from selenium.webdriver.common.by import By\n",
    "from selenium.webdriver.common.keys import Keys\n",
    "from selenium.webdriver.support.select import Select\n",
    "from urllib import parse\n",
    "import time\n",
    "import pandas as pd\n",
    "import numpy as np\n",
    "import re\n",
    "from tqdm import tqdm"
   ]
  },
  {
   "cell_type": "code",
   "execution_count": 2,
   "id": "fb45a57a",
   "metadata": {},
   "outputs": [
    {
     "data": {
      "text/plain": [
       "'C:\\\\Users\\\\EunSeon\\\\anaconda3\\\\envs\\\\week1'"
      ]
     },
     "execution_count": 2,
     "metadata": {},
     "output_type": "execute_result"
    }
   ],
   "source": [
    "#chrome driver가 설치될 파일 경로 확인\n",
    "import os\n",
    "os.getcwd()"
   ]
  },
  {
   "cell_type": "code",
   "execution_count": 82,
   "id": "40e4f449",
   "metadata": {},
   "outputs": [],
   "source": [
    "driver = webdriver.Chrome()\n",
    "driver.maximize_window()\n",
    "driver.get('https://taas.koroad.or.kr/gis/mcm/mcl/initMap.do?menuId=GIS_GMP_STS_RSN')\n",
    "time.sleep(1)"
   ]
  },
  {
   "cell_type": "code",
   "execution_count": 84,
   "id": "e7189cca",
   "metadata": {},
   "outputs": [],
   "source": [
    "#사고년도 설정 (2021년)\n",
    "year_start=driver.find_element(By.XPATH, '//*[@id=\"ptsRafYearStart\"]/option[3]')\n",
    "year_start.click()\n",
    "year_end=driver.find_element(By.XPATH, '//*[@id=\"ptsRafYearEnd\"]/option[3]')\n",
    "year_end.click()"
   ]
  },
  {
   "cell_type": "code",
   "execution_count": 85,
   "id": "8289a249",
   "metadata": {},
   "outputs": [],
   "source": [
    "#지역(제주도) 설정\n",
    "region=driver.find_element(By.XPATH, '//*[@id=\"ptsRafSido\"]/option[17]')\n",
    "region.click()"
   ]
  },
  {
   "cell_type": "code",
   "execution_count": 86,
   "id": "bac0d3e1",
   "metadata": {},
   "outputs": [],
   "source": [
    "#제주도 지역 전체 설정\n",
    "select=driver.find_element(By.XPATH, '//*[@id=\"ptsRafSigungu\"]/option[1]')\n",
    "select.click()"
   ]
  },
  {
   "cell_type": "code",
   "execution_count": 87,
   "id": "8de8f5dd",
   "metadata": {},
   "outputs": [],
   "source": [
    "#모든 사고 유형 선택\n",
    "acc=driver.find_element(By.XPATH, '//*[@id=\"ptsRafCh1AccidentContent\"]/li[2]/input')\n",
    "acc.click()\n",
    "acc=driver.find_element(By.XPATH, '//*[@id=\"ptsRafCh1AccidentContent\"]/li[3]/input')\n",
    "acc.click()\n",
    "acc=driver.find_element(By.XPATH, '//*[@id=\"ptsRafCh1AccidentContent\"]/li[4]/input')\n",
    "acc.click()"
   ]
  },
  {
   "cell_type": "code",
   "execution_count": 167,
   "id": "64dc856a",
   "metadata": {},
   "outputs": [],
   "source": [
    "#사고부문 선택 (어린이 관련 사고로 한정)\n",
    "opt=driver.find_element(By.XPATH,'//*[@id=\"ptsRafSimpleCondition\"]/option[16]')\n",
    "opt.click()"
   ]
  },
  {
   "cell_type": "code",
   "execution_count": 168,
   "id": "681f79e0",
   "metadata": {},
   "outputs": [],
   "source": [
    "#검색\n",
    "driver.find_element(By.XPATH, '//*[@id=\"regionAccidentFind\"]/div[2]/p/a').send_keys(Keys.ENTER)"
   ]
  },
  {
   "cell_type": "code",
   "execution_count": 172,
   "id": "8a203e00",
   "metadata": {},
   "outputs": [],
   "source": [
    "tn=(driver.find_element(By.XPATH, '//*[@id=\"regionAccidentFind\"]/div[3]/div[1]/span').text)\n",
    "tn=int(tn.replace(\",\",\"\"))"
   ]
  },
  {
   "cell_type": "code",
   "execution_count": 173,
   "id": "047f16f5",
   "metadata": {},
   "outputs": [
    {
     "data": {
      "text/plain": [
       "17"
      ]
     },
     "execution_count": 173,
     "metadata": {},
     "output_type": "execute_result"
    }
   ],
   "source": [
    "tn"
   ]
  },
  {
   "cell_type": "code",
   "execution_count": 174,
   "id": "8025c7b8",
   "metadata": {},
   "outputs": [],
   "source": [
    "#크롤링 함수 정의 (num 변수는 총 교통사고 수를 의미)\n",
    "#coord_ls는 좌표계, srs_ls는 좌표계 종류를 의미하는 리스트\n",
    "def crawling(num):\n",
    "    coord_ls = []\n",
    "    srs_ls = []\n",
    "    for i in tqdm(range(0,num)):\n",
    "        driver.execute_script(f'gis.srh.msh.selectListUi({i}, 11);') # 개별 사고지점\n",
    "        time.sleep(1) # 로드\n",
    "        bbox = driver.find_elements(By.CLASS_NAME,'olTileImage')[-1]\n",
    "        src = parse.unquote(bbox.get_attribute('src')) # get src and unquote from 16byte\n",
    "        src_split = src.split('&')\n",
    "        bbox_text = src_split[-3][5:]\n",
    "        coords = [float(i) for i in bbox_text.split(',')]\n",
    "        x, y = (coords[0]+coords[2])/2, (coords[1]+coords[3])/2 # center position\n",
    "        srs = src_split[-4][4:]\n",
    "        coord_ls.append([x, y])\n",
    "        srs_ls.append(srs)\n",
    "    return coord_ls, srs_ls"
   ]
  },
  {
   "cell_type": "code",
   "execution_count": 175,
   "id": "289d5f27",
   "metadata": {},
   "outputs": [
    {
     "name": "stderr",
     "output_type": "stream",
     "text": [
      "100%|██████████████████████████████████████████████████████████████████████████████████| 17/17 [00:20<00:00,  1.21s/it]\n"
     ]
    }
   ],
   "source": [
    "#크롤링 진행\n",
    "coord,srs=crawling(tn)\n",
    "coord=np.array(coord)"
   ]
  },
  {
   "cell_type": "code",
   "execution_count": 123,
   "id": "fe35ff28",
   "metadata": {},
   "outputs": [],
   "source": [
    "#좌표 변환 함수\n",
    "import pyproj\n",
    "def project_array(coord, p1_type, p2_type):\n",
    "    \"\"\"\n",
    "    좌표계 변환 함수\n",
    "    - coord: x, y 좌표 정보가 담긴 NumPy Array\n",
    "    - p1_type: 입력 좌표계 정보 ex) epsg:5181\n",
    "    - p2_type: 출력 좌표계 정보 ex) epsg:4326\n",
    "    \"\"\"\n",
    "    p1 = pyproj.Proj(init=p1_type)\n",
    "    p2 = pyproj.Proj(init=p2_type)\n",
    "    fx, fy = pyproj.transform(p1, p2, coord[:, 0], coord[:, 1])\n",
    "    return np.dstack([fy, fx])[0]"
   ]
  },
  {
   "cell_type": "code",
   "execution_count": 176,
   "id": "58438f67",
   "metadata": {},
   "outputs": [
    {
     "name": "stderr",
     "output_type": "stream",
     "text": [
      "C:\\Users\\EunSeon\\anaconda3\\lib\\site-packages\\pyproj\\crs\\crs.py:141: FutureWarning: '+init=<authority>:<code>' syntax is deprecated. '<authority>:<code>' is the preferred initialization method. When making the change, be mindful of axis order changes: https://pyproj4.github.io/pyproj/stable/gotchas.html#axis-order-changes-in-proj-6\n",
      "  in_crs_string = _prepare_from_proj_string(in_crs_string)\n",
      "C:\\Users\\EunSeon\\anaconda3\\lib\\site-packages\\pyproj\\crs\\crs.py:141: FutureWarning: '+init=<authority>:<code>' syntax is deprecated. '<authority>:<code>' is the preferred initialization method. When making the change, be mindful of axis order changes: https://pyproj4.github.io/pyproj/stable/gotchas.html#axis-order-changes-in-proj-6\n",
      "  in_crs_string = _prepare_from_proj_string(in_crs_string)\n",
      "C:\\Users\\EunSeon\\AppData\\Local\\Temp\\ipykernel_58844\\3994619643.py:12: FutureWarning: This function is deprecated. See: https://pyproj4.github.io/pyproj/stable/gotchas.html#upgrading-to-pyproj-2-from-pyproj-1\n",
      "  fx, fy = pyproj.transform(p1, p2, coord[:, 0], coord[:, 1])\n"
     ]
    }
   ],
   "source": [
    "# 좌표계 정보 설정\n",
    "p1_type = \"epsg:5181\"\n",
    "p2_type = \"epsg:4326\"\n",
    "\n",
    "# project_array() 함수 실행\n",
    "result = project_array(coord, p1_type, p2_type)"
   ]
  },
  {
   "cell_type": "code",
   "execution_count": 177,
   "id": "c6ef3762",
   "metadata": {},
   "outputs": [],
   "source": [
    "df=pd.DataFrame(result,columns=['위도','경도'])"
   ]
  },
  {
   "cell_type": "code",
   "execution_count": 99,
   "id": "a0d7cc4b",
   "metadata": {},
   "outputs": [],
   "source": [
    "from PyKakao import Local\n",
    "api = Local(service_key = \"카카오API에서받은키넣기\")"
   ]
  },
  {
   "cell_type": "code",
   "execution_count": 178,
   "id": "03d1fa24",
   "metadata": {},
   "outputs": [],
   "source": [
    "df['행정동']=None\n",
    "for i in range(0,len(df)):\n",
    "    #데이터 = (경도, 위도) -> 행정동으로 변환\n",
    "    hd=api.geo_coord2regioncode(df.iloc[i,1],df.iloc[i,0],dataframe=True)\n",
    "    #맨 마지막 열에 변환된 행정동 저장\n",
    "    df.iloc[i,2]=hd.iloc[1,5]"
   ]
  },
  {
   "cell_type": "code",
   "execution_count": 179,
   "id": "c75ff87e",
   "metadata": {},
   "outputs": [
    {
     "data": {
      "text/html": [
       "<div>\n",
       "<style scoped>\n",
       "    .dataframe tbody tr th:only-of-type {\n",
       "        vertical-align: middle;\n",
       "    }\n",
       "\n",
       "    .dataframe tbody tr th {\n",
       "        vertical-align: top;\n",
       "    }\n",
       "\n",
       "    .dataframe thead th {\n",
       "        text-align: right;\n",
       "    }\n",
       "</style>\n",
       "<table border=\"1\" class=\"dataframe\">\n",
       "  <thead>\n",
       "    <tr style=\"text-align: right;\">\n",
       "      <th></th>\n",
       "      <th>위도</th>\n",
       "      <th>경도</th>\n",
       "      <th>행정동</th>\n",
       "    </tr>\n",
       "  </thead>\n",
       "  <tbody>\n",
       "    <tr>\n",
       "      <th>12</th>\n",
       "      <td>33.357266</td>\n",
       "      <td>126.295822</td>\n",
       "      <td>한림읍</td>\n",
       "    </tr>\n",
       "    <tr>\n",
       "      <th>13</th>\n",
       "      <td>33.501009</td>\n",
       "      <td>126.548726</td>\n",
       "      <td>일도2동</td>\n",
       "    </tr>\n",
       "    <tr>\n",
       "      <th>14</th>\n",
       "      <td>33.533145</td>\n",
       "      <td>126.619475</td>\n",
       "      <td>조천읍</td>\n",
       "    </tr>\n",
       "    <tr>\n",
       "      <th>15</th>\n",
       "      <td>33.520433</td>\n",
       "      <td>126.585318</td>\n",
       "      <td>삼양동</td>\n",
       "    </tr>\n",
       "    <tr>\n",
       "      <th>16</th>\n",
       "      <td>33.554752</td>\n",
       "      <td>126.750570</td>\n",
       "      <td>구좌읍</td>\n",
       "    </tr>\n",
       "  </tbody>\n",
       "</table>\n",
       "</div>"
      ],
      "text/plain": [
       "           위도          경도   행정동\n",
       "12  33.357266  126.295822   한림읍\n",
       "13  33.501009  126.548726  일도2동\n",
       "14  33.533145  126.619475   조천읍\n",
       "15  33.520433  126.585318   삼양동\n",
       "16  33.554752  126.750570   구좌읍"
      ]
     },
     "execution_count": 179,
     "metadata": {},
     "output_type": "execute_result"
    }
   ],
   "source": [
    "df.tail()"
   ]
  },
  {
   "cell_type": "code",
   "execution_count": 180,
   "id": "2ba55ec9",
   "metadata": {},
   "outputs": [],
   "source": [
    "final_df=pd.concat([final_df,df],axis=0)"
   ]
  },
  {
   "cell_type": "code",
   "execution_count": 181,
   "id": "9f49d4e5",
   "metadata": {},
   "outputs": [
    {
     "name": "stdout",
     "output_type": "stream",
     "text": [
      "<class 'pandas.core.frame.DataFrame'>\n",
      "Int64Index: 378 entries, 0 to 16\n",
      "Data columns (total 3 columns):\n",
      " #   Column  Non-Null Count  Dtype  \n",
      "---  ------  --------------  -----  \n",
      " 0   위도      378 non-null    float64\n",
      " 1   경도      378 non-null    float64\n",
      " 2   행정동     378 non-null    object \n",
      "dtypes: float64(2), object(1)\n",
      "memory usage: 11.8+ KB\n"
     ]
    }
   ],
   "source": [
    "final_df.info()"
   ]
  },
  {
   "cell_type": "code",
   "execution_count": 185,
   "id": "28221c13",
   "metadata": {},
   "outputs": [
    {
     "data": {
      "text/html": [
       "<div>\n",
       "<style scoped>\n",
       "    .dataframe tbody tr th:only-of-type {\n",
       "        vertical-align: middle;\n",
       "    }\n",
       "\n",
       "    .dataframe tbody tr th {\n",
       "        vertical-align: top;\n",
       "    }\n",
       "\n",
       "    .dataframe thead th {\n",
       "        text-align: right;\n",
       "    }\n",
       "</style>\n",
       "<table border=\"1\" class=\"dataframe\">\n",
       "  <thead>\n",
       "    <tr style=\"text-align: right;\">\n",
       "      <th></th>\n",
       "      <th>region_type</th>\n",
       "      <th>code</th>\n",
       "      <th>address_name</th>\n",
       "      <th>region_1depth_name</th>\n",
       "      <th>region_2depth_name</th>\n",
       "      <th>region_3depth_name</th>\n",
       "      <th>region_4depth_name</th>\n",
       "      <th>x</th>\n",
       "      <th>y</th>\n",
       "    </tr>\n",
       "  </thead>\n",
       "  <tbody>\n",
       "    <tr>\n",
       "      <th>0</th>\n",
       "      <td>B</td>\n",
       "      <td>5011025634</td>\n",
       "      <td>제주특별자치도 제주시 구좌읍 김녕리</td>\n",
       "      <td>제주특별자치도</td>\n",
       "      <td>제주시</td>\n",
       "      <td>구좌읍</td>\n",
       "      <td>김녕리</td>\n",
       "      <td>126.754896</td>\n",
       "      <td>33.539961</td>\n",
       "    </tr>\n",
       "    <tr>\n",
       "      <th>1</th>\n",
       "      <td>H</td>\n",
       "      <td>5011025600</td>\n",
       "      <td>제주특별자치도 제주시 구좌읍</td>\n",
       "      <td>제주특별자치도</td>\n",
       "      <td>제주시</td>\n",
       "      <td>구좌읍</td>\n",
       "      <td></td>\n",
       "      <td>126.852041</td>\n",
       "      <td>33.522552</td>\n",
       "    </tr>\n",
       "  </tbody>\n",
       "</table>\n",
       "</div>"
      ],
      "text/plain": [
       "  region_type        code         address_name region_1depth_name  \\\n",
       "0           B  5011025634  제주특별자치도 제주시 구좌읍 김녕리            제주특별자치도   \n",
       "1           H  5011025600      제주특별자치도 제주시 구좌읍            제주특별자치도   \n",
       "\n",
       "  region_2depth_name region_3depth_name region_4depth_name           x  \\\n",
       "0                제주시                구좌읍                김녕리  126.754896   \n",
       "1                제주시                구좌읍                     126.852041   \n",
       "\n",
       "           y  \n",
       "0  33.539961  \n",
       "1  33.522552  "
      ]
     },
     "execution_count": 185,
     "metadata": {},
     "output_type": "execute_result"
    }
   ],
   "source": [
    "hd"
   ]
  },
  {
   "cell_type": "code",
   "execution_count": 183,
   "id": "8105e8dd",
   "metadata": {},
   "outputs": [],
   "source": [
    "final_df.to_csv('사고건수.csv',index=False,encoding='cp949')"
   ]
  }
 ],
 "metadata": {
  "kernelspec": {
   "display_name": "Python 3 (ipykernel)",
   "language": "python",
   "name": "python3"
  },
  "language_info": {
   "codemirror_mode": {
    "name": "ipython",
    "version": 3
   },
   "file_extension": ".py",
   "mimetype": "text/x-python",
   "name": "python",
   "nbconvert_exporter": "python",
   "pygments_lexer": "ipython3",
   "version": "3.9.13"
  }
 },
 "nbformat": 4,
 "nbformat_minor": 5
}
